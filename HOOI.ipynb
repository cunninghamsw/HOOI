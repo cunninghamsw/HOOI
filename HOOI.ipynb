{
 "cells": [
  {
   "cell_type": "code",
   "execution_count": 1,
   "id": "5bb92ada",
   "metadata": {},
   "outputs": [],
   "source": [
    "import scipy.sparse.linalg as l\n",
    "import numpy as np\n",
    "\n",
    "def hooi(A,dim,n): \n",
    "    (x,y,z)=A.shape\n",
    "    #print(\"A \"+str(A.shape))\n",
    "    (r1,r2,r3) = dim\n",
    "\n",
    "    R_init = np.random.rand(y,y)\n",
    "    R,w,v = l.svds(R_init,r2)\n",
    "    #print(\"R \"+str(R.shape))\n",
    "    \n",
    "    V_init = np.random.rand(z,z)\n",
    "    V,w,v = l.svds(V_init,r3)\n",
    "    #print(\"V \"+str(V.shape))\n",
    "\n",
    "    for i in range(n):\n",
    "        print(i,end=\" \")\n",
    "        # Calculate L estimate\n",
    "        C2 = np.tensordot(A,R,axes=(1,0))\n",
    "        #print(\"C2 \"+str(C2.shape))\n",
    "        C1 = np.tensordot(C2,V,axes=(1,0))\n",
    "        #print(\"C1 \"+str(C1.shape))\n",
    "        C = C1.reshape(x,r2*r3)\n",
    "        L,w,v = l.svds(C,r1)\n",
    "        #print(\"L \"+str(L.shape))\n",
    "    \n",
    "        # Calculate R estimate\n",
    "        D2 = np.tensordot(A,L,axes=(0,0))\n",
    "        #print(\"D2 \"+str(D2.shape))\n",
    "        D1 = np.tensordot(D2,V,axes=(1,0))\n",
    "        #print(\"D1 \"+str(D1.shape))\n",
    "        D = D1.reshape(y,r1*r3)\n",
    "        #print(\"D \"+str(D.shape))\n",
    "        R,w,v = l.svds(D,r2)\n",
    "        #print(\"R \"+str(R.shape))\n",
    "    \n",
    "        # Calculate V estimate\n",
    "        E2 = np.tensordot(A,L,axes=(0,0))\n",
    "        E1 = np.tensordot(E2,R,axes=(0,0))\n",
    "        #print(\"E1 \"+str(E1.shape))\n",
    "        E = E1.reshape(z,r1*r2)\n",
    "        V,w,v=l.svds(E,r3)\n",
    "\n",
    "    # Calculate the core tensor\n",
    "    B = np.tensordot(E1,V,axes=(0,0))\n",
    "    \n",
    "    # Calculate the convergence\n",
    "    M2 = np.tensordot(B,L,axes=(0,1))\n",
    "    M1 = np.tensordot(M2,R,axes=(0,1))\n",
    "    M = np.tensordot(M1,V,axes=(0,1))\n",
    "    AA = (A-M)*(A-M)\n",
    "    a=sum(sum(sum(AA)))\n",
    "    model = (B,L,R,V)\n",
    "    converge = (a,M)\n",
    "    \n",
    "    return model,converge, C"
   ]
  },
  {
   "cell_type": "code",
   "execution_count": null,
   "id": "65e2688e",
   "metadata": {},
   "outputs": [],
   "source": []
  }
 ],
 "metadata": {
  "kernelspec": {
   "display_name": "Python 3 (ipykernel)",
   "language": "python",
   "name": "python3"
  },
  "language_info": {
   "codemirror_mode": {
    "name": "ipython",
    "version": 3
   },
   "file_extension": ".py",
   "mimetype": "text/x-python",
   "name": "python",
   "nbconvert_exporter": "python",
   "pygments_lexer": "ipython3",
   "version": "3.9.7"
  }
 },
 "nbformat": 4,
 "nbformat_minor": 5
}
